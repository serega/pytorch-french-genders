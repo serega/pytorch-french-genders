{
 "cells": [
  {
   "cell_type": "markdown",
   "metadata": {},
   "source": [
    "# Classifying genders of french words using character level LSTM"
   ]
  },
  {
   "cell_type": "markdown",
   "metadata": {},
   "source": [
    "Nouns in french are divided in two categories, masculine and feminine. The set of rules that categorize genders is quite extensive and based mostly on word endings. There are also a lot of exceptions. We will train a character-level LSTM on french words and predict the gender of each word. \n",
    "Concretely, we will feed each character of a word as one-hot vector to a LSTM model. After the last character the model will predict the gender of the word."
   ]
  },
  {
   "cell_type": "markdown",
   "metadata": {},
   "source": [
    "# Requirements"
   ]
  },
  {
   "cell_type": "code",
   "execution_count": 1,
   "metadata": {
    "collapsed": false
   },
   "outputs": [],
   "source": [
    "import pandas as pd\n",
    "import random\n",
    "import numpy as np\n",
    "import matplotlib.pyplot as plt\n",
    "import matplotlib\n",
    "import torch\n",
    "%matplotlib inline\n",
    "from torch.autograd import Variable\n",
    "import torch.optim as  optim\n",
    "import torch.nn as nn\n",
    "pd.set_option('display.max_rows', 2000)\n",
    "from sklearn.utils import shuffle"
   ]
  },
  {
   "cell_type": "markdown",
   "metadata": {
    "collapsed": false
   },
   "source": [
    "# Preparing the Data\n",
    "For this problem we are going to use lexical dictionary which is available for download here\n",
    "http://www.dicollecte.org/download.php?prj=fr"
   ]
  },
  {
   "cell_type": "code",
   "execution_count": 2,
   "metadata": {
    "collapsed": false
   },
   "outputs": [
    {
     "data": {
      "text/html": [
       "<div>\n",
       "<table border=\"1\" class=\"dataframe\">\n",
       "  <thead>\n",
       "    <tr style=\"text-align: right;\">\n",
       "      <th></th>\n",
       "      <th>id</th>\n",
       "      <th>Flexion</th>\n",
       "      <th>Lemme</th>\n",
       "      <th>Étiquettes</th>\n",
       "      <th>Métagraphe (β)</th>\n",
       "      <th>Metaphone2</th>\n",
       "      <th>Notes</th>\n",
       "      <th>Sémantique</th>\n",
       "      <th>Étymologie</th>\n",
       "      <th>Sous-dictionnaire</th>\n",
       "      <th>Google 1-grams</th>\n",
       "      <th>Wikipédia</th>\n",
       "      <th>Wikisource</th>\n",
       "      <th>Littérature</th>\n",
       "      <th>Total occurrences</th>\n",
       "      <th>Doublons</th>\n",
       "      <th>Multiples</th>\n",
       "      <th>Fréquence</th>\n",
       "      <th>Indice de fréquence</th>\n",
       "    </tr>\n",
       "  </thead>\n",
       "  <tbody>\n",
       "    <tr>\n",
       "      <th>0</th>\n",
       "      <td>139424</td>\n",
       "      <td>de</td>\n",
       "      <td>de</td>\n",
       "      <td>mg det epi inv</td>\n",
       "      <td>de</td>\n",
       "      <td>T</td>\n",
       "      <td>NaN</td>\n",
       "      <td>@</td>\n",
       "      <td>NaN</td>\n",
       "      <td>*</td>\n",
       "      <td>8818296701</td>\n",
       "      <td>94780970</td>\n",
       "      <td>37051349</td>\n",
       "      <td>6972501</td>\n",
       "      <td>8957101521</td>\n",
       "      <td>1</td>\n",
       "      <td>0</td>\n",
       "      <td>6.074393</td>\n",
       "      <td>9</td>\n",
       "    </tr>\n",
       "    <tr>\n",
       "      <th>1</th>\n",
       "      <td>145241</td>\n",
       "      <td>et</td>\n",
       "      <td>et</td>\n",
       "      <td>mg cjco</td>\n",
       "      <td>é</td>\n",
       "      <td>AT</td>\n",
       "      <td>NaN</td>\n",
       "      <td>@</td>\n",
       "      <td>NaN</td>\n",
       "      <td>*</td>\n",
       "      <td>3867624351</td>\n",
       "      <td>22249966</td>\n",
       "      <td>13925141</td>\n",
       "      <td>3823323</td>\n",
       "      <td>3907622781</td>\n",
       "      <td>1</td>\n",
       "      <td>0</td>\n",
       "      <td>2.650013</td>\n",
       "      <td>9</td>\n",
       "    </tr>\n",
       "    <tr>\n",
       "      <th>2</th>\n",
       "      <td>180587</td>\n",
       "      <td>à</td>\n",
       "      <td>à</td>\n",
       "      <td>mg prep prepv</td>\n",
       "      <td>a</td>\n",
       "      <td>A</td>\n",
       "      <td>NaN</td>\n",
       "      <td>@</td>\n",
       "      <td>NaN</td>\n",
       "      <td>*</td>\n",
       "      <td>3221974801</td>\n",
       "      <td>20826283</td>\n",
       "      <td>11299713</td>\n",
       "      <td>2919484</td>\n",
       "      <td>3257020281</td>\n",
       "      <td>1</td>\n",
       "      <td>0</td>\n",
       "      <td>2.208797</td>\n",
       "      <td>9</td>\n",
       "    </tr>\n",
       "  </tbody>\n",
       "</table>\n",
       "</div>"
      ],
      "text/plain": [
       "       id Flexion Lemme      Étiquettes Métagraphe (β) Metaphone2 Notes  \\\n",
       "0  139424      de    de  mg det epi inv             de          T   NaN   \n",
       "1  145241      et    et         mg cjco              é         AT   NaN   \n",
       "2  180587       à     à   mg prep prepv              a          A   NaN   \n",
       "\n",
       "  Sémantique Étymologie Sous-dictionnaire  Google 1-grams  Wikipédia  \\\n",
       "0          @        NaN                 *      8818296701   94780970   \n",
       "1          @        NaN                 *      3867624351   22249966   \n",
       "2          @        NaN                 *      3221974801   20826283   \n",
       "\n",
       "   Wikisource  Littérature  Total occurrences  Doublons  Multiples  Fréquence  \\\n",
       "0    37051349      6972501         8957101521         1          0   6.074393   \n",
       "1    13925141      3823323         3907622781         1          0   2.650013   \n",
       "2    11299713      2919484         3257020281         1          0   2.208797   \n",
       "\n",
       "   Indice de fréquence  \n",
       "0                    9  \n",
       "1                    9  \n",
       "2                    9  "
      ]
     },
     "execution_count": 2,
     "metadata": {},
     "output_type": "execute_result"
    }
   ],
   "source": [
    "df = pd.read_csv('~/Data/fr/lexique-dicollecte-fr-v6.0.2/lexique-dicollecte-fr-v6.0.2.txt', delimiter='\\t')\n",
    "df.head(3)"
   ]
  },
  {
   "cell_type": "markdown",
   "metadata": {},
   "source": [
    "There are many fields in this dataset, but we are only interested in the column Flexion (inflection) and Étiquettes (tags). We select nouns that have tags 'sg' (singular), 'mas' (masculine) or 'fem' (feminine) tags. We also add columns word_len and gender."
   ]
  },
  {
   "cell_type": "code",
   "execution_count": 3,
   "metadata": {
    "collapsed": false
   },
   "outputs": [],
   "source": [
    "nouns = df[df['Étiquettes'].str.contains('nom') & df['Étiquettes'].str.contains('sg') & (df['Étiquettes'].str.contains('mas') | df['Étiquettes'].str.contains('fem'))].copy()\n",
    "nouns.loc[:, 'word_len'] = nouns['Flexion'].str.len()\n",
    "nouns.loc[:, 'gender'] = nouns['Étiquettes'].str.contains('mas').values.astype(np.int8)\n",
    "nouns = nouns[['Flexion', 'Étiquettes', 'word_len', 'gender']]"
   ]
  },
  {
   "cell_type": "markdown",
   "metadata": {
    "collapsed": false
   },
   "source": [
    "A few words in the data set contain parenthesis. We remove them."
   ]
  },
  {
   "cell_type": "code",
   "execution_count": 4,
   "metadata": {
    "collapsed": false
   },
   "outputs": [],
   "source": [
    "nouns = nouns[~nouns['Flexion'].str.contains('\\(')]"
   ]
  },
  {
   "cell_type": "code",
   "execution_count": 5,
   "metadata": {
    "collapsed": false
   },
   "outputs": [],
   "source": [
    "nouns = nouns.reindex(np.random.permutation(nouns.index))"
   ]
  },
  {
   "cell_type": "code",
   "execution_count": 6,
   "metadata": {
    "collapsed": false
   },
   "outputs": [
    {
     "name": "stdout",
     "output_type": "stream",
     "text": [
      "Total nouns 48940\n"
     ]
    },
    {
     "data": {
      "text/html": [
       "<div>\n",
       "<table border=\"1\" class=\"dataframe\">\n",
       "  <thead>\n",
       "    <tr style=\"text-align: right;\">\n",
       "      <th></th>\n",
       "      <th>Flexion</th>\n",
       "      <th>Étiquettes</th>\n",
       "      <th>word_len</th>\n",
       "      <th>gender</th>\n",
       "    </tr>\n",
       "  </thead>\n",
       "  <tbody>\n",
       "    <tr>\n",
       "      <th>122014</th>\n",
       "      <td>éthicien</td>\n",
       "      <td>nom adj mas sg</td>\n",
       "      <td>8</td>\n",
       "      <td>1</td>\n",
       "    </tr>\n",
       "    <tr>\n",
       "      <th>22602</th>\n",
       "      <td>disparité</td>\n",
       "      <td>nom fem sg</td>\n",
       "      <td>9</td>\n",
       "      <td>0</td>\n",
       "    </tr>\n",
       "    <tr>\n",
       "      <th>147541</th>\n",
       "      <td>dynode</td>\n",
       "      <td>nom fem sg</td>\n",
       "      <td>6</td>\n",
       "      <td>0</td>\n",
       "    </tr>\n",
       "  </tbody>\n",
       "</table>\n",
       "</div>"
      ],
      "text/plain": [
       "          Flexion      Étiquettes  word_len  gender\n",
       "122014   éthicien  nom adj mas sg         8       1\n",
       "22602   disparité      nom fem sg         9       0\n",
       "147541     dynode      nom fem sg         6       0"
      ]
     },
     "execution_count": 6,
     "metadata": {},
     "output_type": "execute_result"
    }
   ],
   "source": [
    "print('Total nouns ' + str(len(nouns)))\n",
    "nouns.head(3)"
   ]
  },
  {
   "cell_type": "markdown",
   "metadata": {
    "collapsed": false
   },
   "source": [
    "There are 48940 nouns in the given dataset.  Having selected the set of words and their genders we convert them to vectors.  First we create a vocabolary of all characters in the dictionary <code>char_indexes</code>. "
   ]
  },
  {
   "cell_type": "code",
   "execution_count": 7,
   "metadata": {
    "collapsed": false
   },
   "outputs": [
    {
     "data": {
      "text/plain": [
       "69"
      ]
     },
     "execution_count": 7,
     "metadata": {},
     "output_type": "execute_result"
    }
   ],
   "source": [
    "char_indexes = {}\n",
    "char_index = 0\n",
    "for i in range(0, len(nouns)):\n",
    "    word = nouns.iloc[i].Flexion\n",
    "    for j in range(0, len(word)):\n",
    "        if word[j] not in char_indexes:\n",
    "            char_indexes[word[j]] = char_index\n",
    "            char_index += 1\n",
    "VOCAB_SIZE = len(char_indexes)\n",
    "VOCAB_SIZE"
   ]
  },
  {
   "cell_type": "markdown",
   "metadata": {},
   "source": [
    "There are 69 distinct characters total. Let's find the index of the character 'a'"
   ]
  },
  {
   "cell_type": "code",
   "execution_count": 8,
   "metadata": {
    "collapsed": false
   },
   "outputs": [
    {
     "data": {
      "text/plain": [
       "10"
      ]
     },
     "execution_count": 8,
     "metadata": {},
     "output_type": "execute_result"
    }
   ],
   "source": [
    "char_indexes['a']"
   ]
  },
  {
   "cell_type": "markdown",
   "metadata": {},
   "source": [
    "Next we convert each character into a one-hot vector of the size VOCAB_SIZE with all zeros and a single one corresponding to the character index in <code>char_indexes</code>."
   ]
  },
  {
   "cell_type": "code",
   "execution_count": 9,
   "metadata": {
    "collapsed": true
   },
   "outputs": [],
   "source": [
    "char_vectors = {}\n",
    "for c, i in char_indexes.items():\n",
    "    v = np.zeros(VOCAB_SIZE, np.float32)\n",
    "    v[char_indexes[c]] = 1\n",
    "    char_vectors[c] = v"
   ]
  },
  {
   "cell_type": "code",
   "execution_count": 10,
   "metadata": {
    "collapsed": false
   },
   "outputs": [
    {
     "data": {
      "text/plain": [
       "array([ 0.,  0.,  0.,  0.,  0.,  0.,  0.,  0.,  0.,  0.,  1.,  0.,  0.,\n",
       "        0.,  0.,  0.,  0.,  0.,  0.,  0.,  0.,  0.,  0.,  0.,  0.,  0.,\n",
       "        0.,  0.,  0.,  0.,  0.,  0.,  0.,  0.,  0.,  0.,  0.,  0.,  0.,\n",
       "        0.,  0.,  0.,  0.,  0.,  0.,  0.,  0.,  0.,  0.,  0.,  0.,  0.,\n",
       "        0.,  0.,  0.,  0.,  0.,  0.,  0.,  0.,  0.,  0.,  0.,  0.,  0.,\n",
       "        0.,  0.,  0.,  0.], dtype=float32)"
      ]
     },
     "execution_count": 10,
     "metadata": {},
     "output_type": "execute_result"
    }
   ],
   "source": [
    "char_vectors['a']"
   ]
  },
  {
   "cell_type": "markdown",
   "metadata": {},
   "source": [
    "The vector corresponding the letter 'a' contains a single one in the position <code>char_vectors['a']</code> with all other entries are zeros. Since our dataset is small and can fit all in memory we convert each word into a list of vectors prior to training"
   ]
  },
  {
   "cell_type": "code",
   "execution_count": 11,
   "metadata": {
    "collapsed": false
   },
   "outputs": [],
   "source": [
    "word_vectors = []\n",
    "for i in range(0, len(nouns)):\n",
    "    word = nouns.iloc[i].Flexion\n",
    "    temp_list = []\n",
    "    for j in range(0, len(word)):\n",
    "        temp_list.append(char_vectors[word[j]])\n",
    "    word_vectors.append(np.array(temp_list, np.float32))\n",
    "word_vectors = np.array(word_vectors)    "
   ]
  },
  {
   "cell_type": "code",
   "execution_count": 12,
   "metadata": {
    "collapsed": false
   },
   "outputs": [
    {
     "data": {
      "text/plain": [
       "(8, 69)"
      ]
     },
     "execution_count": 12,
     "metadata": {},
     "output_type": "execute_result"
    }
   ],
   "source": [
    "word_vectors[0].shape"
   ]
  },
  {
   "cell_type": "markdown",
   "metadata": {},
   "source": [
    "The first noun in the dataset consists of 15 characters. The vectorized representation of this word is a 15 by 69 matrix. In order to take advantage of batch computation we need to make sure each word in the batch has the same length. A common solution to this problem is to pad sequences to the desired length with dummy characters. Let's create a histogram of word lengths in our data set. "
   ]
  },
  {
   "cell_type": "code",
   "execution_count": 13,
   "metadata": {
    "collapsed": false
   },
   "outputs": [
    {
     "data": {
      "text/plain": [
       "array([[<matplotlib.axes._subplots.AxesSubplot object at 0x7f1427160ba8>]], dtype=object)"
      ]
     },
     "execution_count": 13,
     "metadata": {},
     "output_type": "execute_result"
    },
    {
     "data": {
      "image/png": "[encoded data removed]",
      "text/plain": [
       "<matplotlib.figure.Figure at 0x7f13dd51cac8>"
      ]
     },
     "metadata": {},
     "output_type": "display_data"
    }
   ],
   "source": [
    "nouns[['word_len']].hist()"
   ]
  },
  {
   "cell_type": "markdown",
   "metadata": {},
   "source": [
    "The length of french nouns vary from 2 to 20, and even if we excluded very short and very long sentences, we would be still left with a wide range of different word lengts and padding all shorter words to some maximum would and running them through the network would be very inneficient. Instead, we bucket words based on their lengths and then train and test the model bucket by bucket. \n",
    "Our data set is relatively small, so we omit the validation set and split the words in training and test set. "
   ]
  },
  {
   "cell_type": "code",
   "execution_count": 14,
   "metadata": {
    "collapsed": false
   },
   "outputs": [],
   "source": [
    "word_len_vectors_train = {}\n",
    "word_len_vectors_test = {}\n",
    "# Keep track of test indices in the nouns data frame\n",
    "word_len_indices_test = {}\n",
    "for word_len in range(2, 25):\n",
    "    word_tensors = []\n",
    "    targets = []\n",
    "    for wi in range(0, 25000):\n",
    "        w = word_vectors[wi]\n",
    "        if w.shape[0] == word_len:\n",
    "            word_tensors.append(w.reshape(w.shape[0], -1, VOCAB_SIZE))\n",
    "            targets.append(int(nouns.iloc[wi].gender))            \n",
    "    word_tensors = np.concatenate(word_tensors, axis=1)\n",
    "    word_tensors = np.swapaxes(word_tensors, 0, 1)\n",
    "    targets = np.array(targets) \n",
    "    word_len_vectors_train[word_len] = (word_tensors, targets)\n",
    "    \n",
    "    word_tensors = []\n",
    "    targets = []\n",
    "    word_len_indices = []\n",
    "    for wi in range(25000, len(word_vectors)):\n",
    "        w = word_vectors[wi]        \n",
    "        if w.shape[0] == word_len:\n",
    "            word_tensors.append(w.reshape(w.shape[0], -1, VOCAB_SIZE))\n",
    "            targets.append(int(nouns.iloc[wi].gender))\n",
    "            word_len_indices.append(wi)\n",
    "    word_tensors = np.concatenate(word_tensors, axis=1)\n",
    "    word_tensors = np.swapaxes(word_tensors, 0, 1)\n",
    "    targets = np.array(targets)\n",
    "    word_len_vectors_test[word_len] = (word_tensors, targets)    \n",
    "    word_len_indices_test[word_len] = np.array(word_len_indices)"
   ]
  },
  {
   "cell_type": "markdown",
   "metadata": {},
   "source": [
    "Below we select tensor corresponding to the french nouns of length 10 characters. 3262 is the total number of words."
   ]
  },
  {
   "cell_type": "code",
   "execution_count": 15,
   "metadata": {
    "collapsed": false
   },
   "outputs": [
    {
     "data": {
      "text/plain": [
       "(3282, 10, 69)"
      ]
     },
     "execution_count": 15,
     "metadata": {},
     "output_type": "execute_result"
    }
   ],
   "source": [
    "word_len_vectors_train[10][0].shape"
   ]
  },
  {
   "cell_type": "markdown",
   "metadata": {},
   "source": [
    "# Char LSTM Model\n",
    "The model we are using is LSTM module followed by a linear layer and Softmax layer that converts the output from the linear layer to probabilities."
   ]
  },
  {
   "cell_type": "code",
   "execution_count": 16,
   "metadata": {
    "collapsed": false
   },
   "outputs": [],
   "source": [
    "class CharLSTMModel(nn.Module):\n",
    "    \n",
    "    def __init__(self, n_hidden):\n",
    "        super(CharLSTMModel, self).__init__()\n",
    "        self.rnn = nn.LSTMCell(VOCAB_SIZE, n_hidden)\n",
    "        self.linear = nn.Linear(n_hidden, 2)\n",
    "        self.softmax = nn.LogSoftmax()\n",
    "        self.init_weights()\n",
    "        self.n_hidden = n_hidden\n",
    "        self.batch_size = batch_size\n",
    "\n",
    "    def init_weights(self):\n",
    "        initrange = 0.1\n",
    "        self.linear.bias.data.fill_(1.0)\n",
    "        self.linear.weight.data.uniform_(-initrange, initrange)\n",
    "\n",
    "    def forward(self, input, hidden):\n",
    "        hx, cx = self.rnn(input, hidden)\n",
    "        out = self.linear(hx)\n",
    "        return self.softmax(out), hx, cx                  \n",
    "\n",
    "    def init_hidden(self, batch_size):        \n",
    "        return Variable(torch.zeros(batch_size, int(self.n_hidden))).cuda(), \\\n",
    "            Variable(torch.zeros(batch_size, int(self.n_hidden))).cuda() "
   ]
  },
  {
   "cell_type": "markdown",
   "metadata": {
    "collapsed": false
   },
   "source": [
    "# Evaluation\n",
    "Before training let's have our evaluation code ready. "
   ]
  },
  {
   "cell_type": "code",
   "execution_count": 17,
   "metadata": {
    "collapsed": false
   },
   "outputs": [],
   "source": [
    "batch_size = 32\n",
    "batch_size_eval = 128\n",
    "\n",
    "# Feeds a batch of tensors character by character through the network. \n",
    "# Returns the final output from the network\n",
    "def evaluate(word_tensors):\n",
    "    hx, cx = rnn.init_hidden(word_tensors.size()[1])\n",
    "    for i in range(word_tensors.size()[0]):\n",
    "        outputs, hx, cx = rnn(word_tensors[i], (hx, cx))\n",
    "    return outputs\n",
    "\n",
    "# Extracts the gender from the output. 1 indicates masculine and 0 feminine\n",
    "def to_gender(outputs):\n",
    "    top_n, top_i = outputs.data.topk(1)  \n",
    "    return top_i\n",
    "\n",
    "# Evaluates the test data set\n",
    "# Returns accuracy and the indices of words in the nouns data frame genders for which \n",
    "# were incorrectly predicted\n",
    "def evaluate_model():\n",
    "    correct = 0\n",
    "    total = 0\n",
    "    incorrect_indices = []\n",
    "    \n",
    "    def do_evaluate(start, end, X, Y, l):\n",
    "        nonlocal correct, total, incorrect_indices\n",
    "        x = Variable(X[:, start:end, :].cuda())\n",
    "        y = Variable(Y[start:end].cuda())\n",
    "        y_pred = to_gender(evaluate(x))        \n",
    "        incorrect_batch_indices = (y.data != y_pred).cpu().numpy().nonzero()[0]\n",
    "        incorrect_batch_indices = incorrect_batch_indices + start\n",
    "        incorrect_batch_indices = word_len_indices_test[l][incorrect_batch_indices]\n",
    "        incorrect_indices.extend(list(incorrect_batch_indices))\n",
    "        correct += (y.data == y_pred).sum()\n",
    "        total += y_pred.size()[0]\n",
    "        \n",
    "    \n",
    "    for l, test_data in word_len_vectors_test.items(): \n",
    "        X = np.swapaxes(test_data[0], 0, 1)\n",
    "        X = torch.from_numpy(X)\n",
    "        Y = torch.from_numpy(test_data[1])\n",
    "        \n",
    "        xi = 0\n",
    "        for xi in range(batch_size_eval, X.size()[1], batch_size_eval):\n",
    "            start = xi - batch_size_eval\n",
    "            end = xi\n",
    "            do_evaluate(start, end, X, Y, l)\n",
    "        if xi < X.size()[1] - 1:\n",
    "            do_evaluate(xi, X.size()[1], X, Y, l)\n",
    "    return float(correct) / float(total), incorrect_indices"
   ]
  },
  {
   "cell_type": "markdown",
   "metadata": {},
   "source": [
    "We also write a function that can be used interactively to predict the gender of a single word"
   ]
  },
  {
   "cell_type": "code",
   "execution_count": 18,
   "metadata": {
    "collapsed": false
   },
   "outputs": [],
   "source": [
    "def predict_gender(word):\n",
    "    temp_list = []\n",
    "    for j in range(0, len(word)):\n",
    "        temp_list.append(char_vectors[word[j]])\n",
    "    word_tensor = Variable(torch.from_numpy(np.array(temp_list, np.float32).reshape(len(word), -1, VOCAB_SIZE)).cuda())\n",
    "    hx, cx = rnn.init_hidden(1) \n",
    "    for i in range(word_tensor.size()[0]):\n",
    "        outputs, hx, cx = rnn(word_tensor[i], (hx, cx)) \n",
    "    gender_i = to_gender(outputs)\n",
    "    return 'masculine' if gender_i.cpu()[0][0] == 1 else 'feminine'"
   ]
  },
  {
   "cell_type": "markdown",
   "metadata": {},
   "source": [
    "# Training\n",
    "Now we are ready to train our network.\n",
    "\n",
    "The function train_model\n",
    "* initializes the hidden state vector\n",
    "* zeroes out the gradient\n",
    "* feeds each character vector in the batch into the network\n",
    "* finally the loss is propaged back and the model's weights are updated. "
   ]
  },
  {
   "cell_type": "code",
   "execution_count": 19,
   "metadata": {
    "collapsed": false
   },
   "outputs": [],
   "source": [
    "def train_model(word_tensor, target_tensor,  optimizer, loss_func):\n",
    "    hx, cx = rnn.init_hidden(word_tensor.size()[1])\n",
    "\n",
    "    optimizer.zero_grad()\n",
    "\n",
    "    for i in range(word_tensor.size()[0]):\n",
    "        output, hx, cx = rnn(word_tensor[i], (hx, cx))\n",
    "    loss = loss_func(output, target_tensor)\n",
    "    loss.backward()\n",
    "    optimizer.step()\n",
    "    return output, loss.data[0]"
   ]
  },
  {
   "cell_type": "markdown",
   "metadata": {},
   "source": [
    "Finally we initialize our model, the optimizer and loss function which is NLLLoss - negative log likelihood loss. We call train_model function with a batch of inputs and targets.  We keep loss after each epoch in <code>all_losses</code> and accuracy on the test set in <code>accuracies</code>."
   ]
  },
  {
   "cell_type": "code",
   "execution_count": 20,
   "metadata": {
    "collapsed": false
   },
   "outputs": [],
   "source": [
    "n_hidden = 512\n",
    "rnn = CharLSTMModel(n_hidden).cuda()\n",
    "n_epochs = 50\n",
    "\n",
    "# Keep track of losses for plotting\n",
    "current_loss = 0\n",
    "all_losses = []\n",
    "accuracies = []\n",
    "\n",
    "optimizer = optim.Adam(rnn.parameters(), lr = 0.0001)\n",
    "loss_func = nn.NLLLoss()\n",
    "\n",
    "lens = np.array(list(word_len_vectors_train.keys()))\n",
    "for epoch in range(0, n_epochs):\n",
    "    np.random.shuffle(lens)\n",
    "    epoch_losses = []\n",
    "    for l in lens:\n",
    "        train_data = word_len_vectors_train[l]\n",
    "        X, Y = shuffle(train_data[0], train_data[1])\n",
    "        X = np.swapaxes(X, 0, 1)\n",
    "        X = torch.from_numpy(X).cuda()\n",
    "        Y = torch.from_numpy(Y).cuda()\n",
    "        for xi in range(batch_size, X.size()[1], batch_size):\n",
    "            x = Variable(X[:, xi - batch_size:xi, :])\n",
    "            y = Variable(Y[xi-batch_size:xi])\n",
    "            output, loss = train_model(x, y, optimizer, loss_func)\n",
    "            epoch_losses.append(loss)\n",
    "        if xi < X.size()[1] - 1:\n",
    "            x = Variable(X[:,xi:X.size()[1],:])\n",
    "            y = Variable(Y[xi:X.size()[1]])\n",
    "            output, loss = train_model(x, y, optimizer, loss_func)\n",
    "            epoch_losses.append(loss)\n",
    "            \n",
    "    acc, indices = evaluate_model()\n",
    "    accuracies.append(acc)\n",
    "    all_losses.append(np.mean(epoch_losses))"
   ]
  },
  {
   "cell_type": "markdown",
   "metadata": {},
   "source": [
    "# Plotting Results"
   ]
  },
  {
   "cell_type": "code",
   "execution_count": 21,
   "metadata": {
    "collapsed": false
   },
   "outputs": [
    {
     "data": {
      "image/png": "[encoded data removed]",
      "text/plain": [
       "<matplotlib.figure.Figure at 0x7f13dd088208>"
      ]
     },
     "metadata": {},
     "output_type": "display_data"
    }
   ],
   "source": [
    "fig = plt.figure(figsize=(10, 4), dpi=100)\n",
    "plt.plot(accuracies, label='accuracy')\n",
    "plt.plot(all_losses, label='loss')\n",
    "plt.legend(['accuracy', 'loss'])\n",
    "plt.show()"
   ]
  },
  {
   "cell_type": "markdown",
   "metadata": {},
   "source": [
    "The loss steadily decreased throughout all 50 iterations, but accuracy reached 0.9 just after a few iterations and increased a couple of decimal after about 30 iterations. "
   ]
  },
  {
   "cell_type": "code",
   "execution_count": 22,
   "metadata": {
    "collapsed": false
   },
   "outputs": [],
   "source": [
    "accuracy, mis_labeled_indices  = evaluate_model()  "
   ]
  },
  {
   "cell_type": "markdown",
   "metadata": {},
   "source": [
    "We can inspect the misclassified words by selecting rows correcponding to indices"
   ]
  },
  {
   "cell_type": "markdown",
   "metadata": {
    "collapsed": false
   },
   "source": [
    "We can check manually a few words to make sure the model works"
   ]
  },
  {
   "cell_type": "code",
   "execution_count": 23,
   "metadata": {
    "collapsed": false
   },
   "outputs": [
    {
     "data": {
      "text/plain": [
       "'masculine'"
      ]
     },
     "execution_count": 23,
     "metadata": {},
     "output_type": "execute_result"
    }
   ],
   "source": [
    "predict_gender('apprentissage')  # Masculine"
   ]
  },
  {
   "cell_type": "code",
   "execution_count": 24,
   "metadata": {
    "collapsed": false
   },
   "outputs": [
    {
     "data": {
      "text/plain": [
       "'feminine'"
      ]
     },
     "execution_count": 24,
     "metadata": {},
     "output_type": "execute_result"
    }
   ],
   "source": [
    "predict_gender('action')  # Feminine"
   ]
  },
  {
   "cell_type": "code",
   "execution_count": 26,
   "metadata": {
    "collapsed": false
   },
   "outputs": [
    {
     "data": {
      "text/plain": [
       "'feminine'"
      ]
     },
     "execution_count": 26,
     "metadata": {},
     "output_type": "execute_result"
    }
   ],
   "source": [
    "predict_gender('machine')  # Feminine"
   ]
  },
  {
   "cell_type": "markdown",
   "metadata": {},
   "source": [
    "We can inspect mis labeled examples in the test data set"
   ]
  },
  {
   "cell_type": "code",
   "execution_count": null,
   "metadata": {
    "collapsed": false
   },
   "outputs": [],
   "source": [
    "nouns.iloc[mis_labeled_indices]"
   ]
  }
 ],
 "metadata": {
  "kernelspec": {
   "display_name": "Python [default]",
   "language": "python",
   "name": "python3"
  },
  "language_info": {
   "codemirror_mode": {
    "name": "ipython",
    "version": 3
   },
   "file_extension": ".py",
   "mimetype": "text/x-python",
   "name": "python",
   "nbconvert_exporter": "python",
   "pygments_lexer": "ipython3",
   "version": "3.5.2"
  }
 },
 "nbformat": 4,
 "nbformat_minor": 2
}

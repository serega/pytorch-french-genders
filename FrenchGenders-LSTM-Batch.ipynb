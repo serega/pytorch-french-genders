{
 "cells": [
  {
   "cell_type": "code",
   "execution_count": 22,
   "metadata": {
    "collapsed": false
   },
   "outputs": [],
   "source": [
    "import pandas as pd\n",
    "import random\n",
    "import numpy as np\n",
    "import matplotlib.pyplot as plt\n",
    "import matplotlib\n",
    "#import tensorflow as tf\n",
    "import torch\n",
    "%matplotlib inline\n",
    "from torch.autograd import Variable\n",
    "import torch.optim as  optim\n",
    "import torch.nn as nn"
   ]
  },
  {
   "cell_type": "markdown",
   "metadata": {},
   "source": [
    "# Classifying French Genders with a Character-Level LSTM"
   ]
  },
  {
   "cell_type": "markdown",
   "metadata": {
    "collapsed": false
   },
   "source": [
    "Nouns in french are divided in two categories, masculine and feminine. The set of rules that categorize genders is quite extensive and based mostly on word endings. There are also a lot of exceptions. We will train a character-level LSTM on french words and predict the gender of each word. \n",
    "Concretely, we will feed each character of a word as one-hot vector to a LSTM model and at the end the model will predict the gender of the word."
   ]
  },
  {
   "cell_type": "markdown",
   "metadata": {
    "collapsed": false
   },
   "source": [
    "# Preparing the Data\n",
    "For this problem we are going to use lexical dictionary which is available for download here\n",
    "http://www.dicollecte.org/download.php?prj=fr"
   ]
  },
  {
   "cell_type": "code",
   "execution_count": 2,
   "metadata": {
    "collapsed": false
   },
   "outputs": [
    {
     "data": {
      "text/html": [
       "<div>\n",
       "<table border=\"1\" class=\"dataframe\">\n",
       "  <thead>\n",
       "    <tr style=\"text-align: right;\">\n",
       "      <th></th>\n",
       "      <th>id</th>\n",
       "      <th>Flexion</th>\n",
       "      <th>Lemme</th>\n",
       "      <th>Étiquettes</th>\n",
       "      <th>Métagraphe (β)</th>\n",
       "      <th>Metaphone2</th>\n",
       "      <th>Notes</th>\n",
       "      <th>Sémantique</th>\n",
       "      <th>Étymologie</th>\n",
       "      <th>Sous-dictionnaire</th>\n",
       "      <th>Google 1-grams</th>\n",
       "      <th>Wikipédia</th>\n",
       "      <th>Wikisource</th>\n",
       "      <th>Littérature</th>\n",
       "      <th>Total occurrences</th>\n",
       "      <th>Doublons</th>\n",
       "      <th>Multiples</th>\n",
       "      <th>Fréquence</th>\n",
       "      <th>Indice de fréquence</th>\n",
       "    </tr>\n",
       "  </thead>\n",
       "  <tbody>\n",
       "    <tr>\n",
       "      <th>0</th>\n",
       "      <td>139424</td>\n",
       "      <td>de</td>\n",
       "      <td>de</td>\n",
       "      <td>mg det epi inv</td>\n",
       "      <td>de</td>\n",
       "      <td>T</td>\n",
       "      <td>NaN</td>\n",
       "      <td>@</td>\n",
       "      <td>NaN</td>\n",
       "      <td>*</td>\n",
       "      <td>8818296701</td>\n",
       "      <td>94780970</td>\n",
       "      <td>37051349</td>\n",
       "      <td>6972501</td>\n",
       "      <td>8957101521</td>\n",
       "      <td>1</td>\n",
       "      <td>0</td>\n",
       "      <td>6.074393</td>\n",
       "      <td>9</td>\n",
       "    </tr>\n",
       "    <tr>\n",
       "      <th>1</th>\n",
       "      <td>145241</td>\n",
       "      <td>et</td>\n",
       "      <td>et</td>\n",
       "      <td>mg cjco</td>\n",
       "      <td>é</td>\n",
       "      <td>AT</td>\n",
       "      <td>NaN</td>\n",
       "      <td>@</td>\n",
       "      <td>NaN</td>\n",
       "      <td>*</td>\n",
       "      <td>3867624351</td>\n",
       "      <td>22249966</td>\n",
       "      <td>13925141</td>\n",
       "      <td>3823323</td>\n",
       "      <td>3907622781</td>\n",
       "      <td>1</td>\n",
       "      <td>0</td>\n",
       "      <td>2.650013</td>\n",
       "      <td>9</td>\n",
       "    </tr>\n",
       "    <tr>\n",
       "      <th>2</th>\n",
       "      <td>180587</td>\n",
       "      <td>à</td>\n",
       "      <td>à</td>\n",
       "      <td>mg prep prepv</td>\n",
       "      <td>a</td>\n",
       "      <td>A</td>\n",
       "      <td>NaN</td>\n",
       "      <td>@</td>\n",
       "      <td>NaN</td>\n",
       "      <td>*</td>\n",
       "      <td>3221974801</td>\n",
       "      <td>20826283</td>\n",
       "      <td>11299713</td>\n",
       "      <td>2919484</td>\n",
       "      <td>3257020281</td>\n",
       "      <td>1</td>\n",
       "      <td>0</td>\n",
       "      <td>2.208797</td>\n",
       "      <td>9</td>\n",
       "    </tr>\n",
       "  </tbody>\n",
       "</table>\n",
       "</div>"
      ],
      "text/plain": [
       "       id Flexion Lemme      Étiquettes Métagraphe (β) Metaphone2 Notes  \\\n",
       "0  139424      de    de  mg det epi inv             de          T   NaN   \n",
       "1  145241      et    et         mg cjco              é         AT   NaN   \n",
       "2  180587       à     à   mg prep prepv              a          A   NaN   \n",
       "\n",
       "  Sémantique Étymologie Sous-dictionnaire  Google 1-grams  Wikipédia  \\\n",
       "0          @        NaN                 *      8818296701   94780970   \n",
       "1          @        NaN                 *      3867624351   22249966   \n",
       "2          @        NaN                 *      3221974801   20826283   \n",
       "\n",
       "   Wikisource  Littérature  Total occurrences  Doublons  Multiples  Fréquence  \\\n",
       "0    37051349      6972501         8957101521         1          0   6.074393   \n",
       "1    13925141      3823323         3907622781         1          0   2.650013   \n",
       "2    11299713      2919484         3257020281         1          0   2.208797   \n",
       "\n",
       "   Indice de fréquence  \n",
       "0                    9  \n",
       "1                    9  \n",
       "2                    9  "
      ]
     },
     "execution_count": 2,
     "metadata": {},
     "output_type": "execute_result"
    }
   ],
   "source": [
    "df = pd.read_csv('~/Data/fr/lexique-dicollecte-fr-v6.0.2/lexique-dicollecte-fr-v6.0.2.txt', delimiter='\\t')\n",
    "df.head(3)"
   ]
  },
  {
   "cell_type": "markdown",
   "metadata": {},
   "source": [
    "There are many fields in this dataset, but we are only interested in the column Flexion (inflection) and Étiquettes (tags). We select nouns that have tage 'sg' (singular), 'mas' (masguline) or 'fem' (feminine) tags. We also add columns word_len and gender."
   ]
  },
  {
   "cell_type": "code",
   "execution_count": 3,
   "metadata": {
    "collapsed": false
   },
   "outputs": [],
   "source": [
    "nouns = df[df['Étiquettes'].str.contains('nom') & df['Étiquettes'].str.contains('sg') & (df['Étiquettes'].str.contains('mas') | df['Étiquettes'].str.contains('fem'))].copy()\n",
    "nouns.loc[:, 'word_len'] = nouns['Flexion'].str.len()\n",
    "nouns.loc[:, 'gender'] = nouns['Étiquettes'].str.contains('mas').values.astype(np.int8)\n",
    "nouns = nouns[['Flexion', 'Étiquettes', 'word_len', 'gender']]"
   ]
  },
  {
   "cell_type": "markdown",
   "metadata": {
    "collapsed": false
   },
   "source": [
    "A few words in the data set contain parenthesis. We remove those rows"
   ]
  },
  {
   "cell_type": "code",
   "execution_count": 4,
   "metadata": {
    "collapsed": false
   },
   "outputs": [],
   "source": [
    "nouns = nouns[~nouns['Flexion'].str.contains('\\(')]"
   ]
  },
  {
   "cell_type": "code",
   "execution_count": 5,
   "metadata": {
    "collapsed": false
   },
   "outputs": [],
   "source": [
    "nouns = nouns.reindex(np.random.permutation(nouns.index))"
   ]
  },
  {
   "cell_type": "code",
   "execution_count": 6,
   "metadata": {
    "collapsed": false
   },
   "outputs": [
    {
     "data": {
      "text/html": [
       "<div>\n",
       "<table border=\"1\" class=\"dataframe\">\n",
       "  <thead>\n",
       "    <tr style=\"text-align: right;\">\n",
       "      <th></th>\n",
       "      <th>Flexion</th>\n",
       "      <th>Étiquettes</th>\n",
       "      <th>word_len</th>\n",
       "      <th>gender</th>\n",
       "    </tr>\n",
       "  </thead>\n",
       "  <tbody>\n",
       "    <tr>\n",
       "      <th>146419</th>\n",
       "      <td>lichénification</td>\n",
       "      <td>nom fem sg</td>\n",
       "      <td>15</td>\n",
       "      <td>0</td>\n",
       "    </tr>\n",
       "    <tr>\n",
       "      <th>37039</th>\n",
       "      <td>rondeur</td>\n",
       "      <td>nom fem sg</td>\n",
       "      <td>7</td>\n",
       "      <td>0</td>\n",
       "    </tr>\n",
       "    <tr>\n",
       "      <th>51382</th>\n",
       "      <td>grattoir</td>\n",
       "      <td>nom mas sg</td>\n",
       "      <td>8</td>\n",
       "      <td>1</td>\n",
       "    </tr>\n",
       "  </tbody>\n",
       "</table>\n",
       "</div>"
      ],
      "text/plain": [
       "                Flexion  Étiquettes  word_len  gender\n",
       "146419  lichénification  nom fem sg        15       0\n",
       "37039           rondeur  nom fem sg         7       0\n",
       "51382          grattoir  nom mas sg         8       1"
      ]
     },
     "execution_count": 6,
     "metadata": {},
     "output_type": "execute_result"
    }
   ],
   "source": [
    "nouns.head(3)"
   ]
  },
  {
   "cell_type": "code",
   "execution_count": null,
   "metadata": {
    "collapsed": false
   },
   "outputs": [],
   "source": []
  },
  {
   "cell_type": "code",
   "execution_count": null,
   "metadata": {
    "collapsed": false
   },
   "outputs": [],
   "source": []
  },
  {
   "cell_type": "markdown",
   "metadata": {
    "collapsed": false
   },
   "source": [
    "Having selected the set of words and their genders we are going to convert them to input vectors.  First we are going to create a vocabolary of all characters in the dictionary char_indexes. "
   ]
  },
  {
   "cell_type": "code",
   "execution_count": 7,
   "metadata": {
    "collapsed": false
   },
   "outputs": [
    {
     "data": {
      "text/plain": [
       "69"
      ]
     },
     "execution_count": 7,
     "metadata": {},
     "output_type": "execute_result"
    }
   ],
   "source": [
    "char_indexes = {}\n",
    "char_index = 0\n",
    "for i in range(0, len(nouns)):\n",
    "    word = nouns.iloc[i].Flexion\n",
    "    for j in range(0, len(word)):\n",
    "        if word[j] not in char_indexes:\n",
    "            char_indexes[word[j]] = char_index\n",
    "            char_index += 1\n",
    "VOCAB_SIZE = len(char_indexes)\n",
    "VOCAB_SIZE"
   ]
  },
  {
   "cell_type": "markdown",
   "metadata": {},
   "source": [
    "There are 69 distinct characters total. Let's check the index of the character 'a'"
   ]
  },
  {
   "cell_type": "code",
   "execution_count": 8,
   "metadata": {
    "collapsed": false
   },
   "outputs": [
    {
     "data": {
      "text/plain": [
       "7"
      ]
     },
     "execution_count": 8,
     "metadata": {},
     "output_type": "execute_result"
    }
   ],
   "source": [
    "char_indexes['a']"
   ]
  },
  {
   "cell_type": "markdown",
   "metadata": {},
   "source": [
    "Next we convert each character into a one-hot vector of the size VOCAB_SIZE with all zeros and a single one corresponding to the character index"
   ]
  },
  {
   "cell_type": "code",
   "execution_count": 9,
   "metadata": {
    "collapsed": true
   },
   "outputs": [],
   "source": [
    "char_vectors = {}\n",
    "for c, i in char_indexes.items():\n",
    "    v = np.zeros(VOCAB_SIZE, np.float32)\n",
    "    v[char_indexes[c]] = 1\n",
    "    char_vectors[c] = v"
   ]
  },
  {
   "cell_type": "code",
   "execution_count": 10,
   "metadata": {
    "collapsed": false
   },
   "outputs": [
    {
     "data": {
      "text/plain": [
       "array([ 0.,  0.,  0.,  0.,  0.,  0.,  0.,  1.,  0.,  0.,  0.,  0.,  0.,\n",
       "        0.,  0.,  0.,  0.,  0.,  0.,  0.,  0.,  0.,  0.,  0.,  0.,  0.,\n",
       "        0.,  0.,  0.,  0.,  0.,  0.,  0.,  0.,  0.,  0.,  0.,  0.,  0.,\n",
       "        0.,  0.,  0.,  0.,  0.,  0.,  0.,  0.,  0.,  0.,  0.,  0.,  0.,\n",
       "        0.,  0.,  0.,  0.,  0.,  0.,  0.,  0.,  0.,  0.,  0.,  0.,  0.,\n",
       "        0.,  0.,  0.,  0.], dtype=float32)"
      ]
     },
     "execution_count": 10,
     "metadata": {},
     "output_type": "execute_result"
    }
   ],
   "source": [
    "char_vectors['a']"
   ]
  },
  {
   "cell_type": "markdown",
   "metadata": {},
   "source": [
    "The vector corresponding the letter 'a' contains a single one in the position 16 with all other entries are zeros. Since our dataset is small and can fit all in memory we convert each word into a list of vectors"
   ]
  },
  {
   "cell_type": "code",
   "execution_count": 11,
   "metadata": {
    "collapsed": false
   },
   "outputs": [],
   "source": [
    "word_vectors = []\n",
    "for i in range(0, len(nouns)):\n",
    "    word = nouns.iloc[i].Flexion\n",
    "    temp_list = []\n",
    "    for j in range(0, len(word)):\n",
    "        temp_list.append(char_vectors[word[j]])\n",
    "    word_vectors.append(np.array(temp_list, np.float32))\n",
    "word_vectors = np.array(word_vectors)    "
   ]
  },
  {
   "cell_type": "code",
   "execution_count": null,
   "metadata": {
    "collapsed": true
   },
   "outputs": [],
   "source": []
  },
  {
   "cell_type": "code",
   "execution_count": 12,
   "metadata": {
    "collapsed": false
   },
   "outputs": [
    {
     "data": {
      "text/html": [
       "<div>\n",
       "<table border=\"1\" class=\"dataframe\">\n",
       "  <thead>\n",
       "    <tr style=\"text-align: right;\">\n",
       "      <th></th>\n",
       "      <th>Flexion</th>\n",
       "      <th>Étiquettes</th>\n",
       "      <th>word_len</th>\n",
       "      <th>gender</th>\n",
       "    </tr>\n",
       "  </thead>\n",
       "  <tbody>\n",
       "    <tr>\n",
       "      <th>146419</th>\n",
       "      <td>lichénification</td>\n",
       "      <td>nom fem sg</td>\n",
       "      <td>15</td>\n",
       "      <td>0</td>\n",
       "    </tr>\n",
       "  </tbody>\n",
       "</table>\n",
       "</div>"
      ],
      "text/plain": [
       "                Flexion  Étiquettes  word_len  gender\n",
       "146419  lichénification  nom fem sg        15       0"
      ]
     },
     "execution_count": 12,
     "metadata": {},
     "output_type": "execute_result"
    }
   ],
   "source": [
    "nouns.head(1)"
   ]
  },
  {
   "cell_type": "code",
   "execution_count": 13,
   "metadata": {
    "collapsed": false
   },
   "outputs": [
    {
     "data": {
      "text/plain": [
       "(15, 69)"
      ]
     },
     "execution_count": 13,
     "metadata": {},
     "output_type": "execute_result"
    }
   ],
   "source": [
    "word_vectors[0].shape"
   ]
  },
  {
   "cell_type": "markdown",
   "metadata": {},
   "source": [
    "The first noun in the dataset consists of 8 characters. The vectorized representation of this word is a 8 by 69 matrix. In order to take advantage of batch computation we need to make sure each word in the batch has the same length. A common solution to this problem is to pad sequences with dummy characters. "
   ]
  },
  {
   "cell_type": "code",
   "execution_count": 14,
   "metadata": {
    "collapsed": false
   },
   "outputs": [
    {
     "data": {
      "text/plain": [
       "array([[<matplotlib.axes._subplots.AxesSubplot object at 0x7f85709c9a20>]], dtype=object)"
      ]
     },
     "execution_count": 14,
     "metadata": {},
     "output_type": "execute_result"
    },
    {
     "data": {
      "image/png": "[encoded data removed]",
      "text/plain": [
       "<matplotlib.figure.Figure at 0x7f85709c9240>"
      ]
     },
     "metadata": {},
     "output_type": "display_data"
    }
   ],
   "source": [
    "nouns[['word_len']].hist()"
   ]
  },
  {
   "cell_type": "code",
   "execution_count": 30,
   "metadata": {
    "collapsed": false
   },
   "outputs": [],
   "source": [
    "word_len_vectors_train = {}\n",
    "word_len_vectors_test = {}\n",
    "# Keep track of test indices in the nouns data frame\n",
    "word_len_indices_test = {}\n",
    "for word_len in range(2, 25):\n",
    "    word_tensors = []\n",
    "    targets = []\n",
    "    for wi in range(0, 25000):\n",
    "        w = word_vectors[wi]\n",
    "        if w.shape[0] == word_len:\n",
    "            word_tensors.append(w.reshape(w.shape[0], -1, 69))\n",
    "            targets.append(torch.LongTensor([int(nouns.iloc[wi].gender)]))            \n",
    "    word_tensors = np.concatenate(word_tensors, axis=1)\n",
    "    word_tensors = torch.from_numpy(word_tensors)\n",
    "    targets = torch.stack(targets)\n",
    "    targets = torch.unbind(targets, dim=1)[0]\n",
    "    word_len_vectors_train[word_len] = (word_tensors, targets)\n",
    "    \n",
    "    word_tensors = []\n",
    "    targets = []\n",
    "    word_len_indices = []\n",
    "    for wi in range(25000, len(word_vectors)):\n",
    "        w = word_vectors[wi]        \n",
    "        if w.shape[0] == word_len:\n",
    "            word_tensors.append(w.reshape(w.shape[0], -1, 69))\n",
    "            targets.append(torch.LongTensor([int(nouns.iloc[wi].gender)]))\n",
    "            word_len_indices.append(wi)\n",
    "    word_tensors = np.concatenate(word_tensors, axis=1)\n",
    "    word_tensors = torch.from_numpy(word_tensors)\n",
    "    targets = torch.stack(targets)\n",
    "    targets = torch.unbind(targets, dim=1)[0]\n",
    "    word_len_vectors_test[word_len] = (word_tensors, targets)    \n",
    "    word_len_indices_test[word_len] = np.array(word_len_indices)"
   ]
  },
  {
   "cell_type": "code",
   "execution_count": null,
   "metadata": {
    "collapsed": false
   },
   "outputs": [],
   "source": []
  },
  {
   "cell_type": "code",
   "execution_count": 44,
   "metadata": {
    "collapsed": false
   },
   "outputs": [],
   "source": [
    "class CharLSTMModel(nn.Module):\n",
    "    \n",
    "    def __init__(self, n_hidden, batch_size):\n",
    "        super(CharLSTMModel, self).__init__()\n",
    "        self.rnn = nn.LSTMCell(VOCAB_SIZE, n_hidden)\n",
    "        self.linear = nn.Linear(n_hidden, 2)\n",
    "        self.softmax = nn.LogSoftmax()\n",
    "        self.init_weights()\n",
    "        self.n_hidden = n_hidden\n",
    "\n",
    "    def init_weights(self):\n",
    "        initrange = 0.1\n",
    "        self.linear.bias.data.fill_(1.0)\n",
    "        self.linear.weight.data.uniform_(-initrange, initrange)\n",
    "\n",
    "    def forward(self, input, hidden):\n",
    "        hx, cx = self.rnn(input, hidden)\n",
    "        out = self.linear(hx)\n",
    "        return self.softmax(out), hx, cx                  \n",
    "\n",
    "    def init_hidden(self):        \n",
    "        return Variable(torch.zeros(batch_size, int(self.n_hidden))).cuda(), \\\n",
    "            Variable(torch.zeros(batch_size, int(self.n_hidden))).cuda() "
   ]
  },
  {
   "cell_type": "markdown",
   "metadata": {
    "collapsed": false
   },
   "source": [
    "Before training let's have our evaluation code ready. "
   ]
  },
  {
   "cell_type": "code",
   "execution_count": 46,
   "metadata": {
    "collapsed": true
   },
   "outputs": [],
   "source": [
    "batch_size = 32\n",
    "\n",
    "def evaluate(word_tensors):\n",
    "    hx, cx = rnn.init_hidden()\n",
    "    for i in range(word_tensors.size()[0]):\n",
    "        outputs, hx, cx = rnn(word_tensors[i], (hx, cx))\n",
    "    return outputs\n",
    "\n",
    "def to_gender(outputs):\n",
    "    top_n, top_i = outputs.data.topk(1)  \n",
    "    return top_i\n",
    "\n",
    "def evaluate_model():\n",
    "    correct = 0\n",
    "    total = 0\n",
    "    incorrect_indices = []\n",
    "    for l in lens:\n",
    "        test_data = word_len_vectors_test[l]\n",
    "        X = test_data[0]\n",
    "        Y = test_data[1]\n",
    "        if X.size()[1] < batch_size:\n",
    "            # Skip batches smaller than batch_size\n",
    "            continue\n",
    "        for xi in range(32, X.size()[1], batch_size):\n",
    "            x = Variable(X[:, xi - batch_size:xi, :].cuda())\n",
    "            y = Variable(Y[xi-batch_size:xi].cuda())\n",
    "            y_pred = to_gender(evaluate(x))        \n",
    "            incorrect_batch_indices = (y.data != y_pred).cpu().numpy().nonzero()[0]\n",
    "            incorrect_batch_indices = incorrect_batch_indices + xi - batch_size\n",
    "            incorrect_batch_indices = word_len_indices_test[l][incorrect_batch_indices]\n",
    "            incorrect_indices.extend(list(incorrect_batch_indices))\n",
    "            correct += (y.data == y_pred).sum()\n",
    "            total += y_pred.size()[0]\n",
    "    return float(correct) / float(total), incorrect_indices"
   ]
  },
  {
   "cell_type": "code",
   "execution_count": 47,
   "metadata": {
    "collapsed": false
   },
   "outputs": [],
   "source": [
    "criterion = nn.NLLLoss()\n",
    "\n",
    "def train(category_tensor, line_tensor, optimizer):\n",
    "    hx, cx = rnn.init_hidden()\n",
    "\n",
    "    optimizer.zero_grad()\n",
    "\n",
    "    for i in range(line_tensor.size()[0]):\n",
    "        output, hx, cx = rnn(line_tensor[i], (hx, cx))\n",
    "    loss = criterion(output, category_tensor)\n",
    "    loss.backward()\n",
    "    optimizer.step()\n",
    "    return output, loss.data[0]"
   ]
  },
  {
   "cell_type": "code",
   "execution_count": null,
   "metadata": {
    "collapsed": false
   },
   "outputs": [],
   "source": [
    "n_hidden = 256\n",
    "n_letters = len(char_indexes)\n",
    "\n",
    "rnn = CharLSTMModel(n_hidden, batch_size).cuda()\n",
    "\n",
    "n_epochs = 50\n",
    "# Keep track of losses for plotting\n",
    "current_loss = 0\n",
    "all_losses = []\n",
    "accuracies = []\n",
    "\n",
    "optimizer = optim.Adam(rnn.parameters(), lr = 0.0001)\n",
    "lens = np.array(range(3, 19))\n",
    "for epoch in range(0, n_epochs):\n",
    "    np.random.shuffle(lens)\n",
    "    epoch_losses = []\n",
    "    for l in lens:\n",
    "        train_data = word_len_vectors_train[l]\n",
    "        X = train_data[0]\n",
    "        Y = train_data[1]\n",
    "        if X.size()[1] < 48:\n",
    "            continue\n",
    "        for xi in range(random.randint(batch_size, 48), X.size()[1], batch_size):\n",
    "            x = Variable(X[:, xi - batch_size:xi, :].cuda())\n",
    "            y = Variable(Y[xi-batch_size:xi].cuda())\n",
    "            output, loss = train(y, x, optimizer)\n",
    "            epoch_losses.append(loss)           \n",
    "    acc, indices = evaluate_model()\n",
    "    accuracies.append(acc)\n",
    "    all_losses.append(np.mean(epoch_losses))"
   ]
  },
  {
   "cell_type": "markdown",
   "metadata": {},
   "source": [
    "# Plotting Results"
   ]
  },
  {
   "cell_type": "code",
   "execution_count": 49,
   "metadata": {
    "collapsed": false
   },
   "outputs": [
    {
     "data": {
      "image/png": "[encoded data removed]",
      "text/plain": [
       "<matplotlib.figure.Figure at 0x7f85613f5898>"
      ]
     },
     "metadata": {},
     "output_type": "display_data"
    }
   ],
   "source": [
    "fig = plt.figure(figsize=(10, 4), dpi=100)\n",
    "plt.plot(accuracies, label='accuracy')\n",
    "plt.plot(all_losses, label='loss')\n",
    "plt.show()"
   ]
  },
  {
   "cell_type": "code",
   "execution_count": 57,
   "metadata": {
    "collapsed": false
   },
   "outputs": [],
   "source": [
    "accuracy, indices  = evaluate_model()  "
   ]
  },
  {
   "cell_type": "code",
   "execution_count": 58,
   "metadata": {
    "collapsed": false
   },
   "outputs": [
    {
     "data": {
      "text/plain": [
       "0.9196428571428571"
      ]
     },
     "execution_count": 58,
     "metadata": {},
     "output_type": "execute_result"
    }
   ],
   "source": [
    "accuracy"
   ]
  },
  {
   "cell_type": "code",
   "execution_count": 59,
   "metadata": {
    "collapsed": false
   },
   "outputs": [
    {
     "data": {
      "text/plain": [
       "[0.892984693877551,\n",
       " 0.9023809523809524,\n",
       " 0.9057823129251701,\n",
       " 0.9082057823129251,\n",
       " 0.9067602040816326,\n",
       " 0.9115221088435375,\n",
       " 0.9111394557823129,\n",
       " 0.9139455782312925,\n",
       " 0.9149234693877552,\n",
       " 0.9144982993197279,\n",
       " 0.915093537414966,\n",
       " 0.9145833333333333,\n",
       " 0.9148384353741497,\n",
       " 0.9150510204081632,\n",
       " 0.916156462585034,\n",
       " 0.9164115646258504,\n",
       " 0.916156462585034,\n",
       " 0.9176020408163266,\n",
       " 0.9168367346938775,\n",
       " 0.9170918367346939,\n",
       " 0.9180697278911565,\n",
       " 0.9174319727891157,\n",
       " 0.9173044217687075,\n",
       " 0.9190051020408163,\n",
       " 0.9188775510204081,\n",
       " 0.9179421768707483,\n",
       " 0.9178146258503401,\n",
       " 0.9183673469387755,\n",
       " 0.9189625850340136,\n",
       " 0.9178571428571428,\n",
       " 0.9169642857142857,\n",
       " 0.9189200680272109,\n",
       " 0.9194302721088435,\n",
       " 0.9183673469387755,\n",
       " 0.9194302721088435,\n",
       " 0.9194302721088435,\n",
       " 0.9184523809523809,\n",
       " 0.9193027210884354,\n",
       " 0.9185799319727891,\n",
       " 0.9193027210884354,\n",
       " 0.9194302721088435,\n",
       " 0.9197278911564626,\n",
       " 0.9197278911564626,\n",
       " 0.9199829931972789,\n",
       " 0.9198554421768708,\n",
       " 0.91875,\n",
       " 0.9191326530612245,\n",
       " 0.9200255102040816,\n",
       " 0.9197704081632653,\n",
       " 0.9196428571428571]"
      ]
     },
     "execution_count": 59,
     "metadata": {},
     "output_type": "execute_result"
    }
   ],
   "source": [
    "accuracies"
   ]
  }
 ],
 "metadata": {
  "kernelspec": {
   "display_name": "Python [default]",
   "language": "python",
   "name": "python3"
  },
  "language_info": {
   "codemirror_mode": {
    "name": "ipython",
    "version": 3
   },
   "file_extension": ".py",
   "mimetype": "text/x-python",
   "name": "python",
   "nbconvert_exporter": "python",
   "pygments_lexer": "ipython3",
   "version": "3.5.2"
  }
 },
 "nbformat": 4,
 "nbformat_minor": 2
}
